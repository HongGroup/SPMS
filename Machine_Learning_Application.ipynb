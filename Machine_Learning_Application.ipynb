{
 "cells": [
  {
   "cell_type": "markdown",
   "metadata": {},
   "source": [
    "1. Download the **\"SPMS_descriptors.zip\"** and unzip it in the same folder of this Jupyter file\n",
    "2. We would get **\"SPMS\"** folder which contain **\"cat.npy\"**, **\"imine.npy\"** and **\"thiol.npy\"**\n",
    "3. Tag of training is $\\Delta\\\\Delta\\$G, and it is saved in **\"./Reaction_Result/ddG.npy\"**\n",
    "4. This Jupyter Notebook should be run on **Linux**"
   ]
  },
  {
   "cell_type": "code",
   "execution_count": null,
   "metadata": {
    "ExecuteTime": {
     "end_time": "2020-09-16T13:23:02.454009Z",
     "start_time": "2020-09-16T13:23:01.950702Z"
    }
   },
   "outputs": [],
   "source": [
    "!unzip ./SPMS_descriptors.zip"
   ]
  },
  {
   "cell_type": "markdown",
   "metadata": {},
   "source": [
    "## Load dependent packages"
   ]
  },
  {
   "cell_type": "code",
   "execution_count": null,
   "metadata": {
    "ExecuteTime": {
     "end_time": "2020-09-16T13:23:12.553595Z",
     "start_time": "2020-09-16T13:23:12.548033Z"
    }
   },
   "outputs": [],
   "source": [
    "from tensorflow import keras\n",
    "import tensorflow as tf\n",
    "import numpy as np\n",
    "import os,time\n",
    "from tensorflow.keras.callbacks import EarlyStopping\n",
    "from sklearn.metrics import r2_score,mean_absolute_error\n",
    "from sklearn.ensemble import RandomForestRegressor,AdaBoostRegressor,BaggingRegressor,BaggingRegressor,ExtraTreesRegressor\n",
    "from sklearn.tree import DecisionTreeRegressor\n",
    "from sklearn.kernel_ridge import KernelRidge\n",
    "from sklearn.svm import SVR\n",
    "import seaborn as sns"
   ]
  },
  {
   "cell_type": "markdown",
   "metadata": {},
   "source": [
    "## Load SPMS and tag from \".npy\" files"
   ]
  },
  {
   "cell_type": "code",
   "execution_count": null,
   "metadata": {
    "ExecuteTime": {
     "end_time": "2020-09-16T13:23:15.361624Z",
     "start_time": "2020-09-16T13:23:15.334105Z"
    }
   },
   "outputs": [],
   "source": [
    "cat_spms = np.load('./SPMS/cat.npy')\n",
    "imine_spms = np.load('./SPMS/imine.npy')\n",
    "thiol_spms = np.load('./SPMS/thiol.npy')\n",
    "tag = np.load('./Reaction_Result/ddG.npy')"
   ]
  },
  {
   "cell_type": "code",
   "execution_count": null,
   "metadata": {
    "ExecuteTime": {
     "end_time": "2020-09-16T13:35:17.035953Z",
     "start_time": "2020-09-16T13:35:16.798523Z"
    }
   },
   "outputs": [],
   "source": [
    "sns.heatmap(cat_spms[490],cbar=False,cmap='RdBu')"
   ]
  },
  {
   "cell_type": "code",
   "execution_count": null,
   "metadata": {
    "ExecuteTime": {
     "end_time": "2020-09-16T13:23:16.695893Z",
     "start_time": "2020-09-16T13:23:16.690410Z"
    }
   },
   "outputs": [],
   "source": [
    "print(cat_spms.shape,imine_spms.shape,thiol_spms.shape)"
   ]
  },
  {
   "cell_type": "code",
   "execution_count": null,
   "metadata": {
    "ExecuteTime": {
     "end_time": "2020-09-16T13:23:18.708618Z",
     "start_time": "2020-09-16T13:23:18.647740Z"
    }
   },
   "outputs": [],
   "source": [
    "cat_spms_std = (cat_spms-cat_spms.min())/(cat_spms.max()-cat_spms.min())\n",
    "imine_spms_std = (imine_spms-imine_spms.min())/(imine_spms.max()-imine_spms.min())\n",
    "thiol_spms_std = (thiol_spms-thiol_spms.min())/(thiol_spms.max()-thiol_spms.min())\n",
    "react_spms_std = np.concatenate([cat_spms_std.reshape(1075,40,80,1),\n",
    "                                 imine_spms_std.reshape(1075,40,80,1),thiol_spms_std.reshape(1075,40,80,1)],axis=3)\n",
    "tag_scale = tag.max() - tag.min()\n",
    "tag_min = tag.min()\n",
    "tag_std = (tag - tag_min)/tag_scale"
   ]
  },
  {
   "cell_type": "markdown",
   "metadata": {
    "ExecuteTime": {
     "end_time": "2020-09-15T12:00:24.033739Z",
     "start_time": "2020-09-15T12:00:24.028554Z"
    }
   },
   "source": [
    "## Train CNN"
   ]
  },
  {
   "cell_type": "code",
   "execution_count": null,
   "metadata": {
    "ExecuteTime": {
     "end_time": "2020-09-16T13:23:20.683019Z",
     "start_time": "2020-09-16T13:23:20.673692Z"
    }
   },
   "outputs": [],
   "source": [
    "'''\n",
    "Execute this if CUDA is available\n",
    "'''\n",
    "os.environ[\"CUDA_DEVICE_ORDER\"] = \"PCI_BUS_ID\"\n",
    "os.environ['CUDA_VISIBLE_DEVICES'] = \"0\"                           # use CPU : os.environ['CUDA_VISIBLE_DEVICES'] = \"-1\"\n",
    "config = tf.ConfigProto()\n",
    "config.allow_soft_placement=True \n",
    "config.gpu_options.per_process_gpu_memory_fraction=0.7\n",
    "config.gpu_options.allow_growth = True\n",
    "session = tf.Session(config=config)"
   ]
  },
  {
   "cell_type": "code",
   "execution_count": null,
   "metadata": {
    "ExecuteTime": {
     "end_time": "2020-09-16T13:25:40.133470Z",
     "start_time": "2020-09-16T13:23:23.300397Z"
    },
    "scrolled": true
   },
   "outputs": [],
   "source": [
    "start_time = time.time()\n",
    "total_predict_ddG = []\n",
    "total_test_ddG = []\n",
    "total_hist = []\n",
    "for i in range(10):\n",
    "    shuffle_index = list(range(0,tag_std.shape[0]))\n",
    "    np.random.shuffle(shuffle_index)                                       # disturb the index\n",
    "    Y_shuffled = tag_std[shuffle_index]\n",
    "    X_shuffled = react_spms_std[shuffle_index]\n",
    "    tag_shuffled = tag[shuffle_index]\n",
    "    train_x,train_y = X_shuffled[:600],Y_shuffled[:600]\n",
    "    val_x,val_y = X_shuffled[600:],Y_shuffled[600:]\n",
    "    cnn_model = keras.Sequential([\n",
    "                keras.layers.Conv2D(32,(11,21),activation='relu',input_shape=(40,80,3)),\n",
    "                keras.layers.MaxPooling2D((2, 2)),\n",
    "                keras.layers.Conv2D(32,(12,23),activation='relu'),\n",
    "                keras.layers.MaxPooling2D((2, 2)),\n",
    "                keras.layers.Flatten(),\n",
    "                keras.layers.Dense(128, activation='relu'),\n",
    "                keras.layers.Dense(128, activation='relu'),\n",
    "                keras.layers.Dense(1,activation='sigmoid')\n",
    "        ])\n",
    "    cnn_model.compile(optimizer='adam',\n",
    "              loss=tf.keras.losses.mae\n",
    "              )\n",
    "    history = cnn_model.fit(train_x,train_y,validation_data=[val_x,val_y],batch_size=128,epochs=200)\n",
    "    predict = cnn_model.predict(val_x)\n",
    "    predict_ddG = predict*tag_scale + tag_min\n",
    "    predict_ddG = predict_ddG.reshape(-1,)\n",
    "    truth_ddG = tag_shuffled[600:].reshape(-1,)\n",
    "    total_predict_ddG.append(predict_ddG)\n",
    "    total_test_ddG.append(truth_ddG)\n",
    "    total_hist.append(history)\n",
    "    print('++++++++++++++++++++++')\n",
    "    print('DDG R2: %f, MAE: %f'%(r2_score(predict_ddG,truth_ddG),\n",
    "                                 mean_absolute_error(predict_ddG,truth_ddG)))\n",
    "    print('++++++++++++++++++++++')\n",
    "end_time = time.time()\n",
    "time_consume = (end_time - start_time)/60\n",
    "print('Time consuming: %.2f(min)'%time_consume)"
   ]
  },
  {
   "cell_type": "markdown",
   "metadata": {},
   "source": [
    "## Train other models"
   ]
  },
  {
   "cell_type": "code",
   "execution_count": null,
   "metadata": {
    "ExecuteTime": {
     "end_time": "2020-09-16T13:25:46.819285Z",
     "start_time": "2020-09-16T13:25:46.767996Z"
    }
   },
   "outputs": [],
   "source": [
    "react_spms_std_reshape = react_spms_std.reshape(1075,40*80*3)\n",
    "react_spms_std_short = react_spms_std_reshape[:,np.where(react_spms_std_reshape.max(axis=0) != react_spms_std_reshape.min(axis=0))[0]] "
   ]
  },
  {
   "cell_type": "code",
   "execution_count": null,
   "metadata": {
    "ExecuteTime": {
     "end_time": "2020-09-16T13:25:49.422056Z",
     "start_time": "2020-09-16T13:25:49.411819Z"
    }
   },
   "outputs": [],
   "source": [
    "react_spms_std_short.shape"
   ]
  },
  {
   "cell_type": "code",
   "execution_count": null,
   "metadata": {
    "ExecuteTime": {
     "end_time": "2020-09-16T13:25:53.727892Z",
     "start_time": "2020-09-16T13:25:53.723386Z"
    }
   },
   "outputs": [],
   "source": [
    "model_names = ['KRR','SVR','DecisionTreeRegressor','ExtraTreesRegressor',\n",
    "               'RandomForestRegressor','AdaBoostRegressor','BaggingRegressor']"
   ]
  },
  {
   "cell_type": "code",
   "execution_count": null,
   "metadata": {
    "ExecuteTime": {
     "end_time": "2020-09-16T13:25:55.856908Z",
     "start_time": "2020-09-16T13:25:55.795812Z"
    }
   },
   "outputs": [],
   "source": [
    "max_processor_num = !cat /proc/cpuinfo| grep \"processor\"| wc -l\n",
    "max_processor_num = eval(max_processor_num[0])"
   ]
  },
  {
   "cell_type": "code",
   "execution_count": null,
   "metadata": {},
   "outputs": [],
   "source": [
    "num_of_cpu_core = max_processor_num         # Change this variable according to the actual conditions\n",
    "\n",
    "start_time = time.time()\n",
    "models = [KernelRidge(),SVR(),DecisionTreeRegressor(criterion='mae'),ExtraTreesRegressor(n_jobs=num_of_cpu_core,criterion='mae'),\n",
    "         RandomForestRegressor(n_jobs=num_of_cpu_core,criterion='mae'),AdaBoostRegressor(),BaggingRegressor()]\n",
    "shuffle_index = list(range(0,tag_std.shape[0]))\n",
    "np.random.shuffle(shuffle_index)                                       # disturb the index\n",
    "Y_shuffled = tag_std[shuffle_index]\n",
    "X_shuffled = react_spms_std_short[shuffle_index]\n",
    "tag_shuffled = tag[shuffle_index]\n",
    "train_x,train_y = X_shuffled[:600],Y_shuffled[:600]\n",
    "test_x,test_y = X_shuffled[600:],Y_shuffled[600:]\n",
    "for tmp_model,tmp_model_name in zip(models,model_names):\n",
    "\n",
    "    tmp_model.fit(train_x,train_y)\n",
    "    predict = tmp_model.predict(test_x)\n",
    "    predict_ddG = predict*tag_scale + tag_min\n",
    "    predict_ddG = predict_ddG.reshape(-1,)\n",
    "    truth_ddG = tag_shuffled[600:].reshape(-1,)\n",
    "    print('%30s :DDG R2: %10f, MAE: %10f'%(tmp_model_name,r2_score(predict_ddG,truth_ddG),\n",
    "                                 mean_absolute_error(predict_ddG,truth_ddG)))\n",
    "\n",
    "end_time = time.time()\n",
    "time_consume = (end_time - start_time)/60\n",
    "print('Time consuming: %.2f(min)'%time_consume)"
   ]
  }
 ],
 "metadata": {
  "kernelspec": {
   "display_name": "Python 3",
   "language": "python",
   "name": "python3"
  },
  "language_info": {
   "codemirror_mode": {
    "name": "ipython",
    "version": 3
   },
   "file_extension": ".py",
   "mimetype": "text/x-python",
   "name": "python",
   "nbconvert_exporter": "python",
   "pygments_lexer": "ipython3",
   "version": "3.6.5"
  },
  "toc": {
   "base_numbering": 1,
   "nav_menu": {},
   "number_sections": true,
   "sideBar": true,
   "skip_h1_title": false,
   "title_cell": "Table of Contents",
   "title_sidebar": "Contents",
   "toc_cell": false,
   "toc_position": {},
   "toc_section_display": true,
   "toc_window_display": false
  },
  "varInspector": {
   "cols": {
    "lenName": 16,
    "lenType": 16,
    "lenVar": 40
   },
   "kernels_config": {
    "python": {
     "delete_cmd_postfix": "",
     "delete_cmd_prefix": "del ",
     "library": "var_list.py",
     "varRefreshCmd": "print(var_dic_list())"
    },
    "r": {
     "delete_cmd_postfix": ") ",
     "delete_cmd_prefix": "rm(",
     "library": "var_list.r",
     "varRefreshCmd": "cat(var_dic_list()) "
    }
   },
   "types_to_exclude": [
    "module",
    "function",
    "builtin_function_or_method",
    "instance",
    "_Feature"
   ],
   "window_display": false
  }
 },
 "nbformat": 4,
 "nbformat_minor": 4
}
