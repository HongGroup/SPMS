{
 "cells": [
  {
   "cell_type": "markdown",
   "metadata": {},
   "source": [
    "1. This Notebook will convert molecular conformers to SPMS\n",
    "2. SPMS of CPAs, imines and thiols will be saved in **\"./SPMS/cat.npy\"**, **\"./SPMS/imine.npy\"** and **\"./SPMS/thiol.npy\"**"
   ]
  },
  {
   "cell_type": "code",
   "execution_count": null,
   "metadata": {
    "ExecuteTime": {
     "end_time": "2020-09-16T08:38:31.136135Z",
     "start_time": "2020-09-16T08:38:30.877062Z"
    }
   },
   "outputs": [],
   "source": [
    "!unzip ./Conformers.zip"
   ]
  },
  {
   "cell_type": "code",
   "execution_count": null,
   "metadata": {
    "ExecuteTime": {
     "end_time": "2020-09-16T08:45:51.663157Z",
     "start_time": "2020-09-16T08:45:51.469079Z"
    }
   },
   "outputs": [],
   "source": [
    "!ls ./Conformers/"
   ]
  },
  {
   "cell_type": "code",
   "execution_count": null,
   "metadata": {
    "ExecuteTime": {
     "end_time": "2020-09-16T08:57:51.574519Z",
     "start_time": "2020-09-16T08:57:51.375314Z"
    }
   },
   "outputs": [],
   "source": [
    "! ls ./Reaction_Result/"
   ]
  },
  {
   "cell_type": "markdown",
   "metadata": {},
   "source": [
    "## Load original files"
   ]
  },
  {
   "cell_type": "code",
   "execution_count": null,
   "metadata": {
    "ExecuteTime": {
     "end_time": "2020-09-16T13:09:32.577302Z",
     "start_time": "2020-09-16T13:09:32.431608Z"
    }
   },
   "outputs": [],
   "source": [
    "import glob\n",
    "from SPMS import SPMS\n",
    "import pandas as pd"
   ]
  },
  {
   "cell_type": "code",
   "execution_count": null,
   "metadata": {
    "ExecuteTime": {
     "end_time": "2020-09-16T13:09:34.070066Z",
     "start_time": "2020-09-16T13:09:34.058770Z"
    }
   },
   "outputs": [],
   "source": [
    "result_df = pd.read_csv('./Reaction_Result/Denmark_Reaction_Data.csv')\n",
    "cat_smiles = result_df['Catalyst'].to_list()\n",
    "imine_smiles = result_df['Imine'].to_list()\n",
    "thiol_smiles = result_df['Thiol'].to_list()\n",
    "ddG = result_df['Output'].to_list()\n",
    "\n",
    "cat_smiles_set = list(set(cat_smiles))\n",
    "imine_smiles_set = list(set(imine_smiles))\n",
    "thiol_smiles_set = list(set(thiol_smiles))"
   ]
  },
  {
   "cell_type": "code",
   "execution_count": null,
   "metadata": {
    "ExecuteTime": {
     "end_time": "2020-09-16T13:09:34.865172Z",
     "start_time": "2020-09-16T13:09:34.858153Z"
    }
   },
   "outputs": [],
   "source": [
    "cpa_sdf_files = glob.glob('./Conformers/CPA/*.sdf')\n",
    "imine_sdf_files = glob.glob('./Conformers/imine/*.sdf')\n",
    "thiol_sdf_files = glob.glob('./Conformers/thiol/*.sdf')"
   ]
  },
  {
   "cell_type": "markdown",
   "metadata": {},
   "source": [
    "## Calculate SPMS"
   ]
  },
  {
   "cell_type": "markdown",
   "metadata": {},
   "source": [
    "### CPA"
   ]
  },
  {
   "cell_type": "code",
   "execution_count": null,
   "metadata": {
    "ExecuteTime": {
     "end_time": "2020-09-16T13:09:37.105705Z",
     "start_time": "2020-09-16T13:09:36.515125Z"
    }
   },
   "outputs": [],
   "source": [
    "cpa_sdf_files.sort(key=lambda x:eval(x.split('/')[-1].split('_')[1]))\n",
    "all_radius = []\n",
    "for tmp_sdf_file in cpa_sdf_files:\n",
    "    spms = SPMS(tmp_sdf_file,key_atom_num=[3],desc_n=40,desc_m=40)\n",
    "    spms._Standarlize_Geomertry()\n",
    "    tmp_sphere_radius = spms.sphere_radius\n",
    "    all_radius.append(tmp_sphere_radius)\n",
    "all_radius = np.array(all_radius)\n",
    "default_radius = all_radius.max()"
   ]
  },
  {
   "cell_type": "code",
   "execution_count": null,
   "metadata": {
    "ExecuteTime": {
     "end_time": "2020-09-16T13:09:38.280970Z",
     "start_time": "2020-09-16T13:09:38.264223Z"
    }
   },
   "outputs": [],
   "source": [
    "cpa_sdf_files"
   ]
  },
  {
   "cell_type": "code",
   "execution_count": null,
   "metadata": {
    "ExecuteTime": {
     "end_time": "2020-09-16T13:10:35.153461Z",
     "start_time": "2020-09-16T13:09:40.463679Z"
    }
   },
   "outputs": [],
   "source": [
    "all_desc = []\n",
    "for tmp_sdf_file in cpa_sdf_files:\n",
    "    spms = SPMS(tmp_sdf_file,key_atom_num=[3],desc_n=40,desc_m=40,sphere_radius=default_radius)\n",
    "    spms.GetSphereDescriptors()\n",
    "    desc = spms.sphere_descriptors\n",
    "    all_desc.append(desc)\n",
    "all_desc = np.array(all_desc)"
   ]
  },
  {
   "cell_type": "code",
   "execution_count": null,
   "metadata": {
    "ExecuteTime": {
     "end_time": "2020-09-16T13:10:37.793295Z",
     "start_time": "2020-09-16T13:10:37.761035Z"
    }
   },
   "outputs": [],
   "source": [
    "cat_desc_dict = {}\n",
    "for item in cat_smiles_set:\n",
    "    cat_desc_dict[item] = []\n",
    "for i in range(len(all_desc)):\n",
    "    tmp_sdf_file = cpa_sdf_files[i]\n",
    "    with open(tmp_sdf_file,'r') as fr:\n",
    "        tmp_smiles = fr.readlines()[0].strip()\n",
    "    cat_desc_dict[tmp_smiles].append(all_desc[i])\n",
    "new_cat_desc_dict = {}\n",
    "for tmp_key in cat_smiles_set:\n",
    "    new_cat_desc_dict[tmp_key] = np.average(np.array(cat_desc_dict[tmp_key]),axis=0)"
   ]
  },
  {
   "cell_type": "markdown",
   "metadata": {},
   "source": [
    "### imine"
   ]
  },
  {
   "cell_type": "code",
   "execution_count": null,
   "metadata": {
    "ExecuteTime": {
     "end_time": "2020-09-16T13:10:48.491399Z",
     "start_time": "2020-09-16T13:10:48.441001Z"
    }
   },
   "outputs": [],
   "source": [
    "imine_sdf_files.sort(key=lambda x:eval(x.split('/')[-1].split('_')[1]))\n",
    "all_radius = []\n",
    "for tmp_sdf_file in imine_sdf_files:\n",
    "    spms = SPMS(tmp_sdf_file,key_atom_num=[10],desc_n=40,desc_m=40)\n",
    "    spms._Standarlize_Geomertry()\n",
    "    tmp_sphere_radius = spms.sphere_radius\n",
    "    all_radius.append(tmp_sphere_radius)\n",
    "all_radius = np.array(all_radius)\n",
    "default_radius = all_radius.max()"
   ]
  },
  {
   "cell_type": "code",
   "execution_count": null,
   "metadata": {
    "ExecuteTime": {
     "end_time": "2020-09-16T13:10:51.254394Z",
     "start_time": "2020-09-16T13:10:51.247650Z"
    },
    "scrolled": true
   },
   "outputs": [],
   "source": [
    "imine_sdf_files"
   ]
  },
  {
   "cell_type": "code",
   "execution_count": null,
   "metadata": {
    "ExecuteTime": {
     "end_time": "2020-09-16T13:11:14.601822Z",
     "start_time": "2020-09-16T13:11:08.864382Z"
    }
   },
   "outputs": [],
   "source": [
    "all_desc = []\n",
    "for tmp_sdf_file in imine_sdf_files:\n",
    "    spms = SPMS(tmp_sdf_file,key_atom_num=[9,10],desc_n=40,desc_m=40,sphere_radius=default_radius)\n",
    "    spms.GetSphereDescriptors()\n",
    "    desc = spms.sphere_descriptors\n",
    "    all_desc.append(desc)\n",
    "all_desc = np.array(all_desc)\n"
   ]
  },
  {
   "cell_type": "code",
   "execution_count": null,
   "metadata": {
    "ExecuteTime": {
     "end_time": "2020-09-16T13:11:33.049309Z",
     "start_time": "2020-09-16T13:11:33.040444Z"
    }
   },
   "outputs": [],
   "source": [
    "imine_desc_dict = {}\n",
    "for item in imine_smiles_set:\n",
    "    imine_desc_dict[item] = []\n",
    "for i in range(len(all_desc)):\n",
    "    tmp_sdf_file = imine_sdf_files[i]\n",
    "    with open(tmp_sdf_file,'r') as fr:\n",
    "        tmp_smiles = fr.readlines()[0].strip()\n",
    "    imine_desc_dict[tmp_smiles].append(all_desc[i])\n",
    "new_imine_desc_dict = {}\n",
    "for tmp_key in imine_smiles_set:\n",
    "    new_imine_desc_dict[tmp_key] = np.average(np.array(imine_desc_dict[tmp_key]),axis=0)"
   ]
  },
  {
   "cell_type": "markdown",
   "metadata": {},
   "source": [
    "### thiol"
   ]
  },
  {
   "cell_type": "code",
   "execution_count": null,
   "metadata": {
    "ExecuteTime": {
     "end_time": "2020-09-16T13:11:40.138612Z",
     "start_time": "2020-09-16T13:11:40.094158Z"
    }
   },
   "outputs": [],
   "source": [
    "thiol_key = [[1],[1],[1],[1],[3]]\n",
    "thiol_sdf_files.sort(key=lambda x:eval(x.split('/')[-1].split('_')[1]))\n",
    "all_radius = []\n",
    "for i,tmp_sdf_file in enumerate(thiol_sdf_files):\n",
    "    tmp_key_atom = thiol_key[i//20]\n",
    "    spms = SPMS(tmp_sdf_file,key_atom_num=tmp_key_atom,desc_n=40,desc_m=40)\n",
    "    spms._Standarlize_Geomertry()\n",
    "    tmp_sphere_radius = spms.sphere_radius\n",
    "    all_radius.append(tmp_sphere_radius)\n",
    "all_radius = np.array(all_radius)\n",
    "default_radius = all_radius.max()"
   ]
  },
  {
   "cell_type": "code",
   "execution_count": null,
   "metadata": {
    "ExecuteTime": {
     "end_time": "2020-09-16T13:11:41.232746Z",
     "start_time": "2020-09-16T13:11:41.217221Z"
    },
    "scrolled": true
   },
   "outputs": [],
   "source": [
    "thiol_sdf_files"
   ]
  },
  {
   "cell_type": "code",
   "execution_count": null,
   "metadata": {
    "ExecuteTime": {
     "end_time": "2020-09-16T13:11:44.213790Z",
     "start_time": "2020-09-16T13:11:44.207858Z"
    }
   },
   "outputs": [],
   "source": [
    "default_radius"
   ]
  },
  {
   "cell_type": "code",
   "execution_count": null,
   "metadata": {
    "ExecuteTime": {
     "end_time": "2020-09-16T13:11:49.254447Z",
     "start_time": "2020-09-16T13:11:45.956428Z"
    }
   },
   "outputs": [],
   "source": [
    "all_desc = []\n",
    "for i,tmp_sdf_file in enumerate(thiol_sdf_files):\n",
    "    tmp_key_atom = thiol_key[i//20]\n",
    "    spms = SPMS(tmp_sdf_file,key_atom_num=tmp_key_atom,desc_n=40,desc_m=40,sphere_radius=default_radius)\n",
    "    spms.GetSphereDescriptors()\n",
    "    desc = spms.sphere_descriptors\n",
    "    all_desc.append(desc)\n",
    "all_desc = np.array(all_desc)"
   ]
  },
  {
   "cell_type": "code",
   "execution_count": null,
   "metadata": {
    "ExecuteTime": {
     "end_time": "2020-09-16T13:11:50.446695Z",
     "start_time": "2020-09-16T13:11:50.426986Z"
    }
   },
   "outputs": [],
   "source": [
    "thiol_desc_dict = {}\n",
    "for item in thiol_smiles_set:\n",
    "    thiol_desc_dict[item] = []\n",
    "\n",
    "for i in range(len(all_desc)):\n",
    "    \n",
    "    tmp_sdf_file = thiol_sdf_files[i]\n",
    "    with open(tmp_sdf_file,'r') as fr:\n",
    "        tmp_smiles = fr.readlines()[0].strip()\n",
    "    \n",
    "    thiol_desc_dict[tmp_smiles].append(all_desc[i])\n",
    "new_thiol_desc_dict = {}\n",
    "for tmp_key in thiol_smiles_set:\n",
    "    new_thiol_desc_dict[tmp_key] = np.average(np.array(thiol_desc_dict[tmp_key]),axis=0)"
   ]
  },
  {
   "cell_type": "markdown",
   "metadata": {},
   "source": [
    "## Generate reaction SPMS"
   ]
  },
  {
   "cell_type": "code",
   "execution_count": null,
   "metadata": {
    "ExecuteTime": {
     "end_time": "2020-09-16T13:14:17.739994Z",
     "start_time": "2020-09-16T13:14:17.648358Z"
    }
   },
   "outputs": [],
   "source": [
    "react_cat_desc = np.array([new_cat_desc_dict[item] for item in cat_smiles])\n",
    "react_imine_desc = np.array([new_imine_desc_dict[item] for item in imine_smiles])\n",
    "react_thiol_desc = np.array([new_thiol_desc_dict[item] for item in thiol_smiles])\n",
    "\n",
    "np.save('./SPMS/cat.npy',react_cat_desc)\n",
    "np.save('./SPMS/imine.npy',react_imine_desc)\n",
    "np.save('./SPMS/thiol.npy',react_thiol_desc)"
   ]
  }
 ],
 "metadata": {
  "kernelspec": {
   "display_name": "Python 3",
   "language": "python",
   "name": "python3"
  },
  "language_info": {
   "codemirror_mode": {
    "name": "ipython",
    "version": 3
   },
   "file_extension": ".py",
   "mimetype": "text/x-python",
   "name": "python",
   "nbconvert_exporter": "python",
   "pygments_lexer": "ipython3",
   "version": "3.6.5"
  },
  "toc": {
   "base_numbering": 1,
   "nav_menu": {},
   "number_sections": true,
   "sideBar": true,
   "skip_h1_title": false,
   "title_cell": "Table of Contents",
   "title_sidebar": "Contents",
   "toc_cell": false,
   "toc_position": {},
   "toc_section_display": true,
   "toc_window_display": false
  },
  "varInspector": {
   "cols": {
    "lenName": 16,
    "lenType": 16,
    "lenVar": 40
   },
   "kernels_config": {
    "python": {
     "delete_cmd_postfix": "",
     "delete_cmd_prefix": "del ",
     "library": "var_list.py",
     "varRefreshCmd": "print(var_dic_list())"
    },
    "r": {
     "delete_cmd_postfix": ") ",
     "delete_cmd_prefix": "rm(",
     "library": "var_list.r",
     "varRefreshCmd": "cat(var_dic_list()) "
    }
   },
   "types_to_exclude": [
    "module",
    "function",
    "builtin_function_or_method",
    "instance",
    "_Feature"
   ],
   "window_display": false
  }
 },
 "nbformat": 4,
 "nbformat_minor": 4
}
